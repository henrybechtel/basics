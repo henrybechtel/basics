{
 "cells": [
  {
   "cell_type": "markdown",
   "metadata": {},
   "source": [
    "# Monte Python [under construction]\n",
    "### A computational approach to statistical inference with Monte Carlo simulation and resampling methods using python\n",
    "by Henry Bechtel\n",
    "\n",
    "With inspiration from:\n",
    "- \"Statistics for Hackers\", by Jake VanderPlas \n",
    "- \"There is only one test\", by Allen Downey\n",
    "\n",
    "\n",
    "\n",
    "##### Some definitions:\n",
    "Monte Carlo Simulation: Uses random sampling to solve problems (usually includes an assumed data-generating process (DGP))\n",
    "- Direct Simulation\n",
    "\n",
    "Resampling: Could be considered a subset of Monte Carlo but usually involves  sampling from observed data (no DGP)\n",
    "- Shuffling\n",
    "- Bootstrapping \n",
    "- Cross Validation\n"
   ]
  },
  {
   "cell_type": "markdown",
   "metadata": {},
   "source": [
    "Why care about Monte Carlo and resampling?\n",
    "\n",
    "- Learn about statistical assumptions and their effects on statistical inference (to experiment)\n",
    "- Conduct hypothesis testing more transparently and intuitively "
   ]
  },
  {
   "cell_type": "markdown",
   "metadata": {},
   "source": [
    "##### Computational Approach to Hypothesis Testing\n",
    "\n",
    "- Model the null hypothesis\n",
    "- Choose a test statistic (one that reflects the effect you are testing) \n",
    "- Simulate it\n",
    "- Count"
   ]
  },
  {
   "cell_type": "markdown",
   "metadata": {},
   "source": [
    "Importing dependancies"
   ]
  },
  {
   "cell_type": "code",
   "execution_count": 1,
   "metadata": {},
   "outputs": [],
   "source": [
    "import random as random\n",
    "# import numpy as np\n",
    "# import pandas as pd\n",
    "# import seaborn as sns\n",
    "# import matplotlib.pyplot as plt"
   ]
  },
  {
   "cell_type": "markdown",
   "metadata": {},
   "source": [
    "### Monte Carlo Simulation \n",
    "- Experimentation on modeling assumptions\n",
    "- Hypothiesis testing with an assumed model (DGP)"
   ]
  },
  {
   "cell_type": "markdown",
   "metadata": {},
   "source": [
    "#### Experimentation on modeling assumptions"
   ]
  },
  {
   "cell_type": "code",
   "execution_count": null,
   "metadata": {},
   "outputs": [],
   "source": []
  },
  {
   "cell_type": "markdown",
   "metadata": {},
   "source": [
    "#### Hypothiesis testing with an assumed model (DGP)\n",
    "Let's suppose you come across a coin that has been flipped 30 times and has landed on heads 21 of those times. Is it a fair coin?\n",
    "\n",
    "First, we need to state the null hypothesis: \"The coin is fair and the 21 heads are the result of random chance\"\n",
    "\n",
    "Our test statistic will be the sum (count) of all the heads flipped.\n",
    "\n",
    "Here we have a DGP model to simulate the conditionsa of the null hypothesis: a binary random variable with equal probability of landing heads or tails."
   ]
  },
  {
   "cell_type": "markdown",
   "metadata": {},
   "source": [
    "Lets code the the null hypothesis! Here we define what we mean by a fair coin flip."
   ]
  },
  {
   "cell_type": "code",
   "execution_count": 11,
   "metadata": {},
   "outputs": [],
   "source": [
    "def coin_flip(null_hyp_prob = 0.5):\n",
    "    ''' Function returns 1 for heads and 0 for tails. '''\n",
    "    result = 1 if random.random() >= null_hyp_prob else 0\n",
    "    return result"
   ]
  },
  {
   "cell_type": "markdown",
   "metadata": {},
   "source": [
    "Let's record what we observed"
   ]
  },
  {
   "cell_type": "code",
   "execution_count": 12,
   "metadata": {},
   "outputs": [],
   "source": [
    "number_of_flips = 30\n",
    "observed_heads = 21"
   ]
  },
  {
   "cell_type": "markdown",
   "metadata": {},
   "source": [
    "Now, if we could set up this experiment and repeat it over many simulated trials, this is what we'd expect to see."
   ]
  },
  {
   "cell_type": "code",
   "execution_count": 13,
   "metadata": {},
   "outputs": [
    {
     "name": "stdout",
     "output_type": "stream",
     "text": [
      "p-value: 0.021361\n",
      "The coin is likely biased. Null Hypothesis rejected.\n"
     ]
    }
   ],
   "source": [
    "trials = 1000000\n",
    "\n",
    "count = 0\n",
    "for i in range(trials):\n",
    "    trial_heads = 0\n",
    "    for flip in range(number_of_flips):\n",
    "        trial_heads += coin_flip()\n",
    "\n",
    "    # how many times would we have seen something like what we observed (or even more extreme)    \n",
    "    if trial_heads >= observed_heads:\n",
    "        count += 1\n",
    "\n",
    "p = count/trials\n",
    "print(f\"p-value: {p}\")\n",
    "\n",
    "# Arbitrary p-value threshold interpretation:\n",
    "if p < 0.05:\n",
    "    print(\"The coin is likely biased. Null Hypothesis rejected.\")\n",
    "else:\n",
    "    print(\"The Null Hypothesis couldn't be rejected.\")"
   ]
  },
  {
   "cell_type": "markdown",
   "metadata": {},
   "source": [
    "In general, ANALYTICALLY calculating the sampling distribution is hard. But SIMULATING the sampling distribution is easy."
   ]
  },
  {
   "cell_type": "code",
   "execution_count": null,
   "metadata": {},
   "outputs": [],
   "source": []
  },
  {
   "cell_type": "markdown",
   "metadata": {},
   "source": [
    "### Resampling Methods\n",
    "\n",
    "Hypothiesis testing withOUT a generative model\n",
    "\n",
    "- Permutation Testing\n",
    "- Jackknife\n",
    "- Bootstrap\n",
    "- Cross Validation"
   ]
  },
  {
   "cell_type": "markdown",
   "metadata": {},
   "source": [
    "### Bootstrap "
   ]
  },
  {
   "cell_type": "code",
   "execution_count": null,
   "metadata": {
    "collapsed": true,
    "jupyter": {
     "outputs_hidden": true
    }
   },
   "outputs": [],
   "source": []
  },
  {
   "cell_type": "code",
   "execution_count": null,
   "metadata": {
    "collapsed": true,
    "jupyter": {
     "outputs_hidden": true
    }
   },
   "outputs": [],
   "source": []
  },
  {
   "cell_type": "code",
   "execution_count": null,
   "metadata": {
    "collapsed": true,
    "jupyter": {
     "outputs_hidden": true
    }
   },
   "outputs": [],
   "source": []
  },
  {
   "cell_type": "markdown",
   "metadata": {
    "collapsed": true,
    "jupyter": {
     "outputs_hidden": true
    }
   },
   "source": [
    "### Cross Validation"
   ]
  },
  {
   "cell_type": "code",
   "execution_count": null,
   "metadata": {
    "collapsed": true,
    "jupyter": {
     "outputs_hidden": true
    }
   },
   "outputs": [],
   "source": []
  },
  {
   "cell_type": "code",
   "execution_count": null,
   "metadata": {
    "collapsed": true,
    "jupyter": {
     "outputs_hidden": true
    }
   },
   "outputs": [],
   "source": []
  }
 ],
 "metadata": {
  "kernelspec": {
   "display_name": "Python 3 (ipykernel)",
   "language": "python",
   "name": "python3"
  },
  "language_info": {
   "codemirror_mode": {
    "name": "ipython",
    "version": 3
   },
   "file_extension": ".py",
   "mimetype": "text/x-python",
   "name": "python",
   "nbconvert_exporter": "python",
   "pygments_lexer": "ipython3",
   "version": "3.10.15"
  }
 },
 "nbformat": 4,
 "nbformat_minor": 4
}
