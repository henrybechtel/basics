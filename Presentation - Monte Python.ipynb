{
 "cells": [
  {
   "cell_type": "markdown",
   "metadata": {},
   "source": [
    "# The Wild and Wonderful World of Monte Python!\n",
    "### A computational approach to statistical inference with Monte Carlo simulation and resampling methods using python\n",
    "by Henry Bechtel\n",
    "\n",
    "With inspiration from:\n",
    "- \"Statistics for Hackers\", by Jake VanderPlas \n",
    "- \"There is only one test\", by Allen Downey\n",
    "\n",
    "\n",
    "\n",
    "##### Some definitions:\n",
    "Monte Carlo Simulation: Uses random sampling to solve problems (usually includes an assumed data-generating process)\n",
    "- Direct Simulation\n",
    "\n",
    "Resampling: Could be considered a subset of Monte Carlo but usually involves  sampling from observed data (no DGP)\n",
    "- Shuffling\n",
    "- Bootstrapping \n",
    "- Cross Validation\n"
   ]
  },
  {
   "cell_type": "markdown",
   "metadata": {},
   "source": [
    "Why care about Monte Carlo and resampling?\n",
    "\n",
    "- Learn about statistical assumptions and their effects on statistical inference (to experiment)\n",
    "- Conduct hypothesis testing more transparently and intuitively \n",
    "- "
   ]
  },
  {
   "cell_type": "markdown",
   "metadata": {},
   "source": [
    "##### Computational Approach to Hypothesis Testing\n",
    "\n",
    "- Model the null hypothesis\n",
    "- Choose a test statistic (one that reflects the effect you are testing) \n",
    "- Simulate it\n",
    "- Count"
   ]
  },
  {
   "cell_type": "markdown",
   "metadata": {},
   "source": [
    "Importing dependancies"
   ]
  },
  {
   "cell_type": "code",
   "execution_count": 131,
   "metadata": {
    "collapsed": true
   },
   "outputs": [],
   "source": [
    "import numpy as np\n",
    "import pandas as pd\n",
    "import seaborn as sns\n",
    "import matplotlib.pyplot as plt\n",
    "\n",
    "%matplotlib inline"
   ]
  },
  {
   "cell_type": "code",
   "execution_count": 358,
   "metadata": {
    "collapsed": true
   },
   "outputs": [],
   "source": [
    "plt.rcParams['figure.figsize'] = [8.0, 4.0]"
   ]
  },
  {
   "cell_type": "markdown",
   "metadata": {},
   "source": [
    "### Monte Carlo Simulation \n",
    "- Experimentation on modeling assumptions\n",
    "- Hypothiesis testing with an assumed model (DGP)"
   ]
  },
  {
   "cell_type": "markdown",
   "metadata": {},
   "source": [
    "#### Experimentation on modeling assumptions"
   ]
  },
  {
   "cell_type": "code",
   "execution_count": null,
   "metadata": {
    "collapsed": true
   },
   "outputs": [],
   "source": []
  },
  {
   "cell_type": "code",
   "execution_count": null,
   "metadata": {
    "collapsed": true
   },
   "outputs": [],
   "source": []
  },
  {
   "cell_type": "code",
   "execution_count": null,
   "metadata": {
    "collapsed": true
   },
   "outputs": [],
   "source": []
  },
  {
   "cell_type": "code",
   "execution_count": null,
   "metadata": {
    "collapsed": true
   },
   "outputs": [],
   "source": []
  },
  {
   "cell_type": "markdown",
   "metadata": {},
   "source": [
    "#### Hypothiesis testing with an assumed model (DGP)\n",
    "Let's suppose you come across a coin that has been flipped 30 times and has landed on heads 21 of those times. Is it a fair coin?\n",
    "\n",
    "First, we need to state the null hypothesis: \"The coin is fair and the 21 heads are the result of random chance\"\n",
    "\n",
    "Our test statistic will be the sum (count) of all the heads flipped.\n",
    "\n",
    "Here we have a DGP model to simulate the conditionsa of the null hypothesis: a binary random variable with equal probability of landing heads or tails.\n",
    "\n",
    "One coin flip can be coded as:"
   ]
  },
  {
   "cell_type": "code",
   "execution_count": 158,
   "metadata": {},
   "outputs": [
    {
     "data": {
      "text/plain": [
       "1"
      ]
     },
     "execution_count": 158,
     "metadata": {},
     "output_type": "execute_result"
    }
   ],
   "source": [
    "np.random.randint(2)"
   ]
  },
  {
   "cell_type": "markdown",
   "metadata": {},
   "source": [
    "A trail of 30 flips can be coded as:"
   ]
  },
  {
   "cell_type": "code",
   "execution_count": 148,
   "metadata": {},
   "outputs": [
    {
     "data": {
      "text/plain": [
       "array([1, 0, 0, 0, 1, 1, 0, 1, 1, 0, 0, 1, 1, 0, 0, 0, 0, 1, 0, 1, 0, 1, 0,\n",
       "       1, 1, 1, 0, 1, 1, 1])"
      ]
     },
     "execution_count": 148,
     "metadata": {},
     "output_type": "execute_result"
    }
   ],
   "source": [
    "np.random.randint(2, size = 30)"
   ]
  },
  {
   "cell_type": "markdown",
   "metadata": {},
   "source": [
    "Simulating a large number of 30-flip trials with a for-loop:"
   ]
  },
  {
   "cell_type": "code",
   "execution_count": 147,
   "metadata": {},
   "outputs": [
    {
     "name": "stdout",
     "output_type": "stream",
     "text": [
      "0.0216\n"
     ]
    }
   ],
   "source": [
    "M = 0\n",
    "numTrials = 100000\n",
    "for i in range(numTrials):\n",
    "    trial = np.random.randint(2, size = 30)\n",
    "    if sum(trial) >= 21:\n",
    "        M += 1\n",
    "    p = M/numTrials\n",
    "print(p)"
   ]
  },
  {
   "cell_type": "code",
   "execution_count": null,
   "metadata": {
    "collapsed": true
   },
   "outputs": [],
   "source": []
  },
  {
   "cell_type": "code",
   "execution_count": null,
   "metadata": {
    "collapsed": true
   },
   "outputs": [],
   "source": []
  },
  {
   "cell_type": "markdown",
   "metadata": {},
   "source": [
    "In general, ANALYTICALLY calculating the sampling distribution is hard. But SIMULATING the sampling distribution is easy."
   ]
  },
  {
   "cell_type": "markdown",
   "metadata": {},
   "source": [
    "### Resampling Methods\n",
    "\n",
    "Hypothiesis testing withOUT a generative model\n",
    "\n",
    "- Permutation Testing\n",
    "- Jackknife\n",
    "- Bootstrap\n",
    "- Cross Validation"
   ]
  },
  {
   "cell_type": "markdown",
   "metadata": {},
   "source": [
    "### Bootstrap "
   ]
  },
  {
   "cell_type": "code",
   "execution_count": null,
   "metadata": {
    "collapsed": true
   },
   "outputs": [],
   "source": []
  },
  {
   "cell_type": "code",
   "execution_count": null,
   "metadata": {
    "collapsed": true
   },
   "outputs": [],
   "source": []
  },
  {
   "cell_type": "code",
   "execution_count": null,
   "metadata": {
    "collapsed": true
   },
   "outputs": [],
   "source": []
  },
  {
   "cell_type": "markdown",
   "metadata": {
    "collapsed": true
   },
   "source": [
    "### Cross Validation"
   ]
  },
  {
   "cell_type": "code",
   "execution_count": null,
   "metadata": {
    "collapsed": true
   },
   "outputs": [],
   "source": []
  },
  {
   "cell_type": "code",
   "execution_count": null,
   "metadata": {
    "collapsed": true
   },
   "outputs": [],
   "source": []
  }
 ],
 "metadata": {
  "kernelspec": {
   "display_name": "Python 3",
   "language": "python",
   "name": "python3"
  },
  "language_info": {
   "codemirror_mode": {
    "name": "ipython",
    "version": 3
   },
   "file_extension": ".py",
   "mimetype": "text/x-python",
   "name": "python",
   "nbconvert_exporter": "python",
   "pygments_lexer": "ipython3",
   "version": "3.6.1"
  }
 },
 "nbformat": 4,
 "nbformat_minor": 2
}
