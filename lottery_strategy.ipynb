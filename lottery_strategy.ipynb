{
 "cells": [
  {
   "cell_type": "markdown",
   "metadata": {},
   "source": [
    "# Lottery Strategy Test\n",
    "Is using the same lottery numbers every time a better strategy than randomly chosing every time? My intuition says no, but let's find out via simulation!!"
   ]
  },
  {
   "cell_type": "code",
   "execution_count": 1,
   "metadata": {},
   "outputs": [],
   "source": [
    "import numpy as np\n",
    "import matplotlib.pyplot as plt"
   ]
  },
  {
   "cell_type": "markdown",
   "metadata": {},
   "source": [
    "First let's define the lottery setup:"
   ]
  },
  {
   "cell_type": "code",
   "execution_count": 263,
   "metadata": {},
   "outputs": [],
   "source": [
    "number_pool = 20  # Max of integers (from 0) that can be chosen\n",
    "number_of_choices = 5   # Number of choices"
   ]
  },
  {
   "cell_type": "code",
   "execution_count": 29,
   "metadata": {},
   "outputs": [
    {
     "data": {
      "text/plain": [
       "array([ 7, 10,  7, 12,  1])"
      ]
     },
     "execution_count": 29,
     "metadata": {},
     "output_type": "execute_result"
    }
   ],
   "source": [
    "my_numbers_same = np.array([7,10,7,12,1])\n",
    "my_numbers_same"
   ]
  },
  {
   "cell_type": "code",
   "execution_count": 233,
   "metadata": {},
   "outputs": [
    {
     "data": {
      "text/plain": [
       "array([16,  8,  8,  2, 15])"
      ]
     },
     "execution_count": 233,
     "metadata": {},
     "output_type": "execute_result"
    }
   ],
   "source": [
    "my_numbers_rand = np.random.choice(number_pool, number_of_choices)\n",
    "my_numbers_rand"
   ]
  },
  {
   "cell_type": "code",
   "execution_count": 22,
   "metadata": {},
   "outputs": [
    {
     "data": {
      "text/plain": [
       "array([ 7, 10,  7, 12,  1])"
      ]
     },
     "execution_count": 22,
     "metadata": {},
     "output_type": "execute_result"
    }
   ],
   "source": [
    "lottery_numbers = np.random.choice(number_pool, number_of_choices)\n",
    "lottery_numbers"
   ]
  },
  {
   "cell_type": "markdown",
   "metadata": {},
   "source": [
    "Does order matter? If not:"
   ]
  },
  {
   "cell_type": "code",
   "execution_count": 30,
   "metadata": {},
   "outputs": [],
   "source": [
    "order_matters = \"no\"\n",
    "if order_matters == 'no':\n",
    "    my_numbers_same.sort()\n",
    "    my_numbers_rand.sort()\n",
    "    lottery_numbers.sort()"
   ]
  },
  {
   "cell_type": "code",
   "execution_count": 31,
   "metadata": {
    "collapsed": true
   },
   "outputs": [
    {
     "data": {
      "text/plain": [
       "array([ True,  True,  True,  True,  True])"
      ]
     },
     "execution_count": 31,
     "metadata": {},
     "output_type": "execute_result"
    }
   ],
   "source": [
    "results = my_numbers_same == lottery_numbers\n",
    "results"
   ]
  },
  {
   "cell_type": "code",
   "execution_count": 32,
   "metadata": {},
   "outputs": [
    {
     "data": {
      "text/plain": [
       "True"
      ]
     },
     "execution_count": 32,
     "metadata": {},
     "output_type": "execute_result"
    }
   ],
   "source": [
    "results.min()"
   ]
  },
  {
   "cell_type": "markdown",
   "metadata": {},
   "source": [
    "Let's put this all together in a function:"
   ]
  },
  {
   "cell_type": "code",
   "execution_count": 2,
   "metadata": {},
   "outputs": [],
   "source": [
    "def lottery_test(number_pool=10, number_of_choices=3, order_matters = 'no'):\n",
    "    count_same = 0\n",
    "    count_rand = 0\n",
    "    my_numbers_same = np.random.choice(number_pool, number_of_choices) # randomly chosing this once\n",
    "    \n",
    "    results_stop = [0,0]    \n",
    "    while sum(results_stop) < 2:\n",
    "        my_numbers_rand = np.random.choice(number_pool, number_of_choices)\n",
    "        lottery_numbers = np.random.choice(number_pool, number_of_choices)\n",
    "        \n",
    "        if order_matters == 'no':\n",
    "            my_numbers_same.sort()\n",
    "            my_numbers_rand.sort()\n",
    "            lottery_numbers.sort()\n",
    "            \n",
    "        results_same = my_numbers_same == lottery_numbers    \n",
    "        results_rand = my_numbers_rand == lottery_numbers\n",
    "        \n",
    "        if results_stop[0] == 0 and results_same.min() == False:\n",
    "            count_same += 1\n",
    "        else:\n",
    "            results_stop[0] = 1\n",
    "            \n",
    "        if results_stop[1] == 0 and results_rand.min() == False:\n",
    "            count_rand += 1\n",
    "        else:\n",
    "            results_stop[1] = 1  \n",
    "     \n",
    "    count_same_rand = [count_same, count_rand]\n",
    "    return count_same_rand"
   ]
  },
  {
   "cell_type": "code",
   "execution_count": 3,
   "metadata": {},
   "outputs": [
    {
     "data": {
      "text/plain": [
       "[22, 180]"
      ]
     },
     "execution_count": 3,
     "metadata": {},
     "output_type": "execute_result"
    }
   ],
   "source": [
    "lottery_test(number_pool=10, number_of_choices=3, order_matters='no')"
   ]
  },
  {
   "cell_type": "code",
   "execution_count": 8,
   "metadata": {},
   "outputs": [],
   "source": [
    "tries_to_win_same = []\n",
    "tries_to_win_rand = []\n",
    "same_win = []\n",
    "for i in range(1000):\n",
    "    trial_results = lottery_test()\n",
    "    tries_to_win_same.append(trial_results[0])\n",
    "    tries_to_win_rand.append(trial_results[1])\n",
    "    if trial_results[0] < trial_results[1]:\n",
    "        same_win.append(1)\n",
    "    else:\n",
    "        same_win.append(0)"
   ]
  },
  {
   "cell_type": "code",
   "execution_count": 9,
   "metadata": {},
   "outputs": [
    {
     "data": {
      "text/plain": [
       "0.489"
      ]
     },
     "execution_count": 9,
     "metadata": {},
     "output_type": "execute_result"
    }
   ],
   "source": [
    "same_win_frac = sum(same_win)/len(same_win)\n",
    "same_win_frac"
   ]
  },
  {
   "cell_type": "code",
   "execution_count": 10,
   "metadata": {},
   "outputs": [
    {
     "data": {
      "image/png": "[encoded data removed]",
      "text/plain": [
       "<Figure size 432x288 with 1 Axes>"
      ]
     },
     "metadata": {
      "needs_background": "light"
     },
     "output_type": "display_data"
    }
   ],
   "source": [
    "plt.hist(tries_to_win_same, bins=50);"
   ]
  },
  {
   "cell_type": "code",
   "execution_count": 11,
   "metadata": {},
   "outputs": [
    {
     "data": {
      "image/png": "[encoded data removed]",
      "text/plain": [
       "<Figure size 432x288 with 1 Axes>"
      ]
     },
     "metadata": {
      "needs_background": "light"
     },
     "output_type": "display_data"
    }
   ],
   "source": [
    "plt.hist(tries_to_win_rand, bins=50);"
   ]
  },
  {
   "cell_type": "code",
   "execution_count": null,
   "metadata": {},
   "outputs": [],
   "source": []
  }
 ],
 "metadata": {
  "kernelspec": {
   "display_name": "Python 3",
   "language": "python",
   "name": "python3"
  },
  "language_info": {
   "codemirror_mode": {
    "name": "ipython",
    "version": 3
   },
   "file_extension": ".py",
   "mimetype": "text/x-python",
   "name": "python",
   "nbconvert_exporter": "python",
   "pygments_lexer": "ipython3",
   "version": "3.7.3"
  }
 },
 "nbformat": 4,
 "nbformat_minor": 2
}
